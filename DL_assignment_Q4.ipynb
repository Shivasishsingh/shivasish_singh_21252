{
  "cells": [
    {
      "cell_type": "code",
      "execution_count": 1,
      "metadata": {
        "id": "xdaLjzfVpCCl"
      },
      "outputs": [],
      "source": [
        "import torch\n",
        "import torch.nn as nn\n",
        "import torch.optim as optim\n",
        "import torchvision\n",
        "from torchvision import datasets, models, transforms"
      ]
    },
    {
      "cell_type": "code",
      "execution_count": 2,
      "metadata": {
        "id": "RChaGWuPsel3"
      },
      "outputs": [],
      "source": [
        "device = torch.device(\"cuda:0\" if torch.cuda.is_available() else \"cpu\")"
      ]
    },
    {
      "cell_type": "markdown",
      "metadata": {
        "id": "2XSBpYBzvkzv"
      },
      "source": [
        "<b> Loading and Transforming data </b>"
      ]
    },
    {
      "cell_type": "code",
      "execution_count": 3,
      "metadata": {
        "colab": {
          "base_uri": "https://localhost:8080/"
        },
        "id": "I3ia56N8pvYh",
        "outputId": "8683f228-d65f-450f-b629-7865ec6912c5"
      },
      "outputs": [
        {
          "name": "stdout",
          "output_type": "stream",
          "text": [
            "Downloading http://ufldl.stanford.edu/housenumbers/train_32x32.mat to ./data\\train_32x32.mat\n"
          ]
        },
        {
          "name": "stderr",
          "output_type": "stream",
          "text": [
            "100%|██████████| 182040794/182040794 [00:50<00:00, 3620789.81it/s]\n"
          ]
        },
        {
          "name": "stdout",
          "output_type": "stream",
          "text": [
            "Downloading http://ufldl.stanford.edu/housenumbers/test_32x32.mat to ./data\\test_32x32.mat\n"
          ]
        },
        {
          "name": "stderr",
          "output_type": "stream",
          "text": [
            "100%|██████████| 64275384/64275384 [00:22<00:00, 2838891.84it/s]\n"
          ]
        }
      ],
      "source": [
        "transform = transforms.Compose([\n",
        "    transforms.Resize((32, 32)),\n",
        "    transforms.ToTensor(),\n",
        "    transforms.Normalize((0.5, 0.5, 0.5), (0.5, 0.5, 0.5))\n",
        "])\n",
        "\n",
        "train_data = datasets.SVHN(root='./data', split='train', download=True, transform=transform)\n",
        "test_data = datasets.SVHN(root='./data', split='test', download=True, transform=transform)\n",
        "\n",
        "train_loader = torch.utils.data.DataLoader(train_data, batch_size=64, shuffle=True)\n",
        "test_loader = torch.utils.data.DataLoader(test_data, batch_size=64, shuffle=False)"
      ]
    },
    {
      "cell_type": "markdown",
      "metadata": {
        "id": "Z44DhxkovrVc"
      },
      "source": [
        "<b>Defining LeNet5 Architecture </b>"
      ]
    },
    {
      "cell_type": "code",
      "execution_count": 4,
      "metadata": {
        "id": "lENDhGu8qvBd"
      },
      "outputs": [],
      "source": [
        "class LeNet5(nn.Module):\n",
        "    def __init__(self, num_classes=10):\n",
        "        super(LeNet5, self).__init__()\n",
        "        self.features = nn.Sequential(\n",
        "            nn.Conv2d(3, 6, kernel_size=5),\n",
        "            nn.ReLU(inplace=True),\n",
        "            nn.MaxPool2d(kernel_size=2, stride=2),\n",
        "            nn.Conv2d(6, 16, kernel_size=5),\n",
        "            nn.ReLU(inplace=True),\n",
        "            nn.MaxPool2d(kernel_size=2, stride=2)\n",
        "        )\n",
        "        self.classifier = nn.Sequential(\n",
        "            nn.Linear(16*5*5, 120),\n",
        "            nn.ReLU(inplace=True),\n",
        "            nn.Linear(120, 84),\n",
        "            nn.ReLU(inplace=True),\n",
        "            nn.Linear(84, num_classes)\n",
        "        )\n",
        "\n",
        "    def forward(self, x):\n",
        "        x = self.features(x)\n",
        "        x = torch.flatten(x, 1)\n",
        "        x = self.classifier(x)\n",
        "        return x"
      ]
    },
    {
      "cell_type": "markdown",
      "metadata": {
        "id": "deyGowQUv22o"
      },
      "source": [
        "<b> Defining AlexNet Architecture </b>"
      ]
    },
    {
      "cell_type": "code",
      "execution_count": 5,
      "metadata": {
        "id": "0F8bFqUQvKYo"
      },
      "outputs": [],
      "source": [
        "class AlexNet(nn.Module):\n",
        "    def __init__(self, num_classes=1000):\n",
        "        super(AlexNet, self).__init__()\n",
        "        self.features = models.alexnet(pretrained=False).features\n",
        "        self.avgpool = nn.AdaptiveAvgPool2d((6, 6))\n",
        "        self.classifier = nn.Sequential(\n",
        "            nn.Dropout(),\n",
        "            nn.Linear(256 * 6 * 6, 4096),\n",
        "            nn.ReLU(inplace=True),\n",
        "            nn.Dropout(),\n",
        "            nn.Linear(4096, 4096),\n",
        "            nn.ReLU(inplace=True),\n",
        "            nn.Linear(4096, num_classes),\n",
        "        )\n",
        "\n",
        "    def forward(self, x):\n",
        "        x = self.features(x)\n",
        "        x = self.avgpool(x)\n",
        "        x = torch.flatten(x, 1)\n",
        "        x = self.classifier(x)\n",
        "        return x"
      ]
    },
    {
      "cell_type": "markdown",
      "metadata": {
        "id": "sTBGbHOYzWl0"
      },
      "source": [
        "<b> Loading Pretrained Weights </b>"
      ]
    },
    {
      "cell_type": "code",
      "execution_count": 6,
      "metadata": {
        "id": "ql-cI61NqRZN"
      },
      "outputs": [],
      "source": [
        "models_list = {\n",
        "    \"LeNet-5\": LeNet5,\n",
        "    \"AlexNet\": AlexNet,\n",
        "    \"VGG\": models.vgg16,\n",
        "    \"ResNet-18\": models.resnet18,\n",
        "    \"ResNet-50\": models.resnet50,\n",
        "    \"ResNet-101\": models.resnet101\n",
        "}\n",
        "\n",
        "def load_pretrained_weights(model_name):\n",
        "    if model_name == \"LeNet-5\":\n",
        "        return LeNet5().to(device)\n",
        "    elif model_name == \"AlexNet\":\n",
        "        model = AlexNet(num_classes=10)\n",
        "        pretrained_dict = models.alexnet(pretrained=True).state_dict()\n",
        "        model_dict = model.state_dict()\n",
        "        pretrained_dict = {k: v for k, v in pretrained_dict.items() if k in model_dict}\n",
        "        # Update the state dict\n",
        "        model_dict.update(pretrained_dict)\n",
        "        # Load the updated state dict\n",
        "        model.load_state_dict(model_dict)\n",
        "        return model.to(device)\n",
        "    else:\n",
        "        model = models_list[model_name](pretrained=True)\n",
        "        # Replace the last layer with custom output layer to match SVHN\n",
        "        if \"ResNet\" in model_name:\n",
        "            num_ftrs = model.fc.in_features\n",
        "            model.fc = nn.Linear(num_ftrs, 10)\n",
        "        else:\n",
        "            num_ftrs = model.classifier[-1].in_features\n",
        "            model.classifier[-1] = nn.Linear(num_ftrs, 10)\n",
        "        return model.to(device)"
      ]
    },
    {
      "cell_type": "code",
      "execution_count": 7,
      "metadata": {
        "id": "VF3wgoKAq-Ot"
      },
      "outputs": [],
      "source": [
        "def train_model(model, criterion, optimizer, num_epochs=5):\n",
        "    for epoch in range(num_epochs):\n",
        "        model.train()\n",
        "        running_loss = 0.0\n",
        "        correct = 0\n",
        "        total = 0\n",
        "\n",
        "        for inputs, labels in train_loader:\n",
        "            inputs, labels = inputs.to(device), labels.to(device)\n",
        "            optimizer.zero_grad()\n",
        "            outputs = model(inputs)\n",
        "            loss = criterion(outputs, labels)\n",
        "            loss.backward()\n",
        "            optimizer.step()\n",
        "\n",
        "            running_loss += loss.item()\n",
        "            _, predicted = outputs.max(1)\n",
        "            total += labels.size(0)\n",
        "            correct += predicted.eq(labels).sum().item()\n",
        "\n",
        "        train_loss = running_loss / len(train_loader)\n",
        "        train_accuracy = correct / total\n",
        "\n",
        "        print(f\"Epoch {epoch+1}/{num_epochs}, Train Loss: {train_loss:.4f}, Train Accuracy: {100*train_accuracy:.2f}%\")\n"
      ]
    },
    {
      "cell_type": "code",
      "execution_count": 8,
      "metadata": {
        "id": "e0rGfzEyrtlG"
      },
      "outputs": [],
      "source": [
        "def test_model(model):\n",
        "    model.eval()\n",
        "    correct = 0\n",
        "    total = 0\n",
        "    with torch.no_grad():\n",
        "        for inputs, labels in test_loader:\n",
        "            inputs, labels = inputs.to(device), labels.to(device)\n",
        "            outputs = model(inputs)\n",
        "            _, predicted = outputs.max(1)\n",
        "            total += labels.size(0)\n",
        "            correct += predicted.eq(labels).sum().item()\n",
        "\n",
        "    test_accuracy = correct / total\n",
        "    print(f\"Test Accuracy: {100*test_accuracy:.2f}%\")"
      ]
    },
    {
      "cell_type": "code",
      "execution_count": 9,
      "metadata": {
        "id": "QSz-oTIErCN7"
      },
      "outputs": [],
      "source": [
        "my_list = []\n",
        "for model_name in models_list.keys():\n",
        "    my_list.append(model_name)\n"
      ]
    },
    {
      "cell_type": "markdown",
      "metadata": {
        "id": "-z7yTMnlz9Eu"
      },
      "source": [
        "<b>LeNet-5 Model </b>"
      ]
    },
    {
      "cell_type": "code",
      "execution_count": 10,
      "metadata": {
        "colab": {
          "base_uri": "https://localhost:8080/"
        },
        "id": "K6Ot_HqXzx0e",
        "outputId": "117c636b-c24e-4d46-c41b-60eb938aece3"
      },
      "outputs": [
        {
          "name": "stdout",
          "output_type": "stream",
          "text": [
            "Training LeNet-5...\n",
            "Epoch 1/5, Train Loss: 2.2509, Train Accuracy: 18.92%\n",
            "Epoch 2/5, Train Loss: 2.2324, Train Accuracy: 18.92%\n",
            "Epoch 3/5, Train Loss: 2.2035, Train Accuracy: 19.52%\n",
            "Epoch 4/5, Train Loss: 1.8270, Train Accuracy: 37.60%\n",
            "Epoch 5/5, Train Loss: 1.0609, Train Accuracy: 67.58%\n",
            "Testing LeNet-5...\n",
            "Test Accuracy: 76.76%\n",
            "\n"
          ]
        }
      ],
      "source": [
        "model = load_pretrained_weights(my_list[0])\n",
        "criterion = nn.CrossEntropyLoss()\n",
        "optimizer = optim.SGD(model.parameters(), lr=0.001, momentum=0.9)\n",
        "print(f\"Training {my_list[0]}...\")\n",
        "train_model(model, criterion, optimizer)\n",
        "print(f\"Testing {my_list[0]}...\")\n",
        "test_model(model)\n",
        "print()"
      ]
    },
    {
      "cell_type": "markdown",
      "metadata": {
        "id": "7Ea-JvBZI1Pf"
      },
      "source": [
        "<b>VGG Model</b>"
      ]
    },
    {
      "cell_type": "code",
      "execution_count": 11,
      "metadata": {
        "colab": {
          "base_uri": "https://localhost:8080/"
        },
        "id": "oDI-vUlt1zb5",
        "outputId": "a75b2d06-35f3-4bba-bea7-34937501b00c"
      },
      "outputs": [
        {
          "name": "stderr",
          "output_type": "stream",
          "text": [
            "C:\\Users\\shiva\\AppData\\Local\\Packages\\PythonSoftwareFoundation.Python.3.11_qbz5n2kfra8p0\\LocalCache\\local-packages\\Python311\\site-packages\\torchvision\\models\\_utils.py:208: UserWarning: The parameter 'pretrained' is deprecated since 0.13 and may be removed in the future, please use 'weights' instead.\n",
            "  warnings.warn(\n",
            "C:\\Users\\shiva\\AppData\\Local\\Packages\\PythonSoftwareFoundation.Python.3.11_qbz5n2kfra8p0\\LocalCache\\local-packages\\Python311\\site-packages\\torchvision\\models\\_utils.py:223: UserWarning: Arguments other than a weight enum or `None` for 'weights' are deprecated since 0.13 and may be removed in the future. The current behavior is equivalent to passing `weights=VGG16_Weights.IMAGENET1K_V1`. You can also use `weights=VGG16_Weights.DEFAULT` to get the most up-to-date weights.\n",
            "  warnings.warn(msg)\n",
            "Downloading: \"https://download.pytorch.org/models/vgg16-397923af.pth\" to C:\\Users\\shiva/.cache\\torch\\hub\\checkpoints\\vgg16-397923af.pth\n",
            "100%|██████████| 528M/528M [01:13<00:00, 7.54MB/s] \n"
          ]
        },
        {
          "name": "stdout",
          "output_type": "stream",
          "text": [
            "Training VGG...\n"
          ]
        }
      ],
      "source": [
        "model = load_pretrained_weights(my_list[2])\n",
        "criterion = nn.CrossEntropyLoss()\n",
        "optimizer = optim.SGD(model.parameters(), lr=0.001, momentum=0.9)\n",
        "print(f\"Training {my_list[2]}...\")\n",
        "train_model(model, criterion, optimizer)\n",
        "print(f\"Testing {my_list[2]}...\")\n",
        "test_model(model)\n",
        "print()"
      ]
    },
    {
      "cell_type": "markdown",
      "metadata": {
        "id": "-tz18Pw4JFM2"
      },
      "source": [
        "<b>AlexNet Model</b>"
      ]
    },
    {
      "cell_type": "code",
      "execution_count": null,
      "metadata": {
        "id": "wyL7cwM_JAAJ"
      },
      "outputs": [],
      "source": [
        "model = load_pretrained_weights(my_list[1])\n",
        "criterion = nn.CrossEntropyLoss()\n",
        "optimizer = optim.SGD(model.parameters(), lr=0.001, momentum=0.9)\n",
        "print(f\"Training {my_list[1]}...\")\n",
        "train_model(model, criterion, optimizer)\n",
        "print(f\"Testing {my_list[1]}...\")\n",
        "test_model(model)\n",
        "print()"
      ]
    },
    {
      "cell_type": "markdown",
      "metadata": {
        "id": "qb0_QRkvJSbj"
      },
      "source": [
        "<b>Resnet 18</b>"
      ]
    },
    {
      "cell_type": "code",
      "execution_count": null,
      "metadata": {
        "colab": {
          "base_uri": "https://localhost:8080/"
        },
        "id": "dvFHOaOJJnoV",
        "outputId": "e942aacb-f6c5-4c33-f7bb-f196c55c69f7"
      },
      "outputs": [
        {
          "name": "stderr",
          "output_type": "stream",
          "text": [
            "/usr/local/lib/python3.10/dist-packages/torchvision/models/_utils.py:208: UserWarning: The parameter 'pretrained' is deprecated since 0.13 and may be removed in the future, please use 'weights' instead.\n",
            "  warnings.warn(\n",
            "/usr/local/lib/python3.10/dist-packages/torchvision/models/_utils.py:223: UserWarning: Arguments other than a weight enum or `None` for 'weights' are deprecated since 0.13 and may be removed in the future. The current behavior is equivalent to passing `weights=ResNet18_Weights.IMAGENET1K_V1`. You can also use `weights=ResNet18_Weights.DEFAULT` to get the most up-to-date weights.\n",
            "  warnings.warn(msg)\n",
            "Downloading: \"https://download.pytorch.org/models/resnet18-f37072fd.pth\" to /root/.cache/torch/hub/checkpoints/resnet18-f37072fd.pth\n",
            "100%|██████████| 44.7M/44.7M [00:00<00:00, 154MB/s]\n"
          ]
        },
        {
          "name": "stdout",
          "output_type": "stream",
          "text": [
            "Training ResNet-18...\n",
            "Epoch 1/5, Train Loss: 0.7883, Train Accuracy: 73.97%\n",
            "Epoch 2/5, Train Loss: 0.3403, Train Accuracy: 89.32%\n",
            "Epoch 3/5, Train Loss: 0.2563, Train Accuracy: 92.12%\n",
            "Epoch 4/5, Train Loss: 0.2086, Train Accuracy: 93.48%\n",
            "Epoch 5/5, Train Loss: 0.1710, Train Accuracy: 94.65%\n",
            "Testing ResNet-18...\n",
            "Test Accuracy: 92.24%\n",
            "\n"
          ]
        }
      ],
      "source": [
        "model = load_pretrained_weights(my_list[3])\n",
        "criterion = nn.CrossEntropyLoss()\n",
        "optimizer = optim.SGD(model.parameters(), lr=0.001, momentum=0.9)\n",
        "print(f\"Training {my_list[3]}...\")\n",
        "train_model(model, criterion, optimizer)\n",
        "print(f\"Testing {my_list[3]}...\")\n",
        "test_model(model)\n",
        "print()"
      ]
    },
    {
      "cell_type": "markdown",
      "metadata": {
        "id": "StuJqnf7JxQD"
      },
      "source": [
        "<b>Resnet 50</b>"
      ]
    },
    {
      "cell_type": "code",
      "execution_count": null,
      "metadata": {
        "colab": {
          "base_uri": "https://localhost:8080/"
        },
        "id": "OjZRwI-iJ553",
        "outputId": "c26bae2a-8797-490b-a787-d01b15b11935"
      },
      "outputs": [
        {
          "name": "stderr",
          "output_type": "stream",
          "text": [
            "/usr/local/lib/python3.10/dist-packages/torchvision/models/_utils.py:223: UserWarning: Arguments other than a weight enum or `None` for 'weights' are deprecated since 0.13 and may be removed in the future. The current behavior is equivalent to passing `weights=ResNet50_Weights.IMAGENET1K_V1`. You can also use `weights=ResNet50_Weights.DEFAULT` to get the most up-to-date weights.\n",
            "  warnings.warn(msg)\n",
            "Downloading: \"https://download.pytorch.org/models/resnet50-0676ba61.pth\" to /root/.cache/torch/hub/checkpoints/resnet50-0676ba61.pth\n",
            "100%|██████████| 97.8M/97.8M [00:00<00:00, 167MB/s]\n"
          ]
        },
        {
          "name": "stdout",
          "output_type": "stream",
          "text": [
            "Training ResNet-50...\n",
            "Epoch 1/5, Train Loss: 0.7058, Train Accuracy: 76.58%\n",
            "Epoch 2/5, Train Loss: 0.2708, Train Accuracy: 91.82%\n",
            "Epoch 3/5, Train Loss: 0.1907, Train Accuracy: 94.26%\n",
            "Epoch 4/5, Train Loss: 0.1399, Train Accuracy: 95.68%\n",
            "Epoch 5/5, Train Loss: 0.1026, Train Accuracy: 96.85%\n",
            "Testing ResNet-50...\n",
            "Test Accuracy: 93.11%\n",
            "\n"
          ]
        }
      ],
      "source": [
        "model = load_pretrained_weights(my_list[4])\n",
        "criterion = nn.CrossEntropyLoss()\n",
        "optimizer = optim.SGD(model.parameters(), lr=0.001, momentum=0.9)\n",
        "print(f\"Training {my_list[4]}...\")\n",
        "train_model(model, criterion, optimizer)\n",
        "print(f\"Testing {my_list[4]}...\")\n",
        "test_model(model)\n",
        "print()"
      ]
    },
    {
      "cell_type": "markdown",
      "metadata": {
        "id": "6LGcGkVTJ-Uc"
      },
      "source": [
        "<b>Resnet 100</b>"
      ]
    },
    {
      "cell_type": "code",
      "execution_count": null,
      "metadata": {
        "colab": {
          "base_uri": "https://localhost:8080/"
        },
        "id": "7MvnNujRKBUB",
        "outputId": "1504d6ad-cf76-4d9c-c677-ebfa16527ab7"
      },
      "outputs": [
        {
          "name": "stderr",
          "output_type": "stream",
          "text": [
            "/usr/local/lib/python3.10/dist-packages/torchvision/models/_utils.py:223: UserWarning: Arguments other than a weight enum or `None` for 'weights' are deprecated since 0.13 and may be removed in the future. The current behavior is equivalent to passing `weights=ResNet101_Weights.IMAGENET1K_V1`. You can also use `weights=ResNet101_Weights.DEFAULT` to get the most up-to-date weights.\n",
            "  warnings.warn(msg)\n",
            "Downloading: \"https://download.pytorch.org/models/resnet101-63fe2227.pth\" to /root/.cache/torch/hub/checkpoints/resnet101-63fe2227.pth\n",
            "100%|██████████| 171M/171M [00:01<00:00, 138MB/s]\n"
          ]
        },
        {
          "name": "stdout",
          "output_type": "stream",
          "text": [
            "Training ResNet-101...\n",
            "Epoch 1/5, Train Loss: 0.7050, Train Accuracy: 76.53%\n",
            "Epoch 2/5, Train Loss: 0.2707, Train Accuracy: 91.75%\n",
            "Epoch 3/5, Train Loss: 0.1840, Train Accuracy: 94.39%\n",
            "Epoch 4/5, Train Loss: 0.1293, Train Accuracy: 96.01%\n",
            "Epoch 5/5, Train Loss: 0.0935, Train Accuracy: 97.15%\n",
            "Testing ResNet-101...\n",
            "Test Accuracy: 92.47%\n",
            "\n"
          ]
        }
      ],
      "source": [
        "model = load_pretrained_weights(my_list[5])\n",
        "criterion = nn.CrossEntropyLoss()\n",
        "optimizer = optim.SGD(model.parameters(), lr=0.001, momentum=0.9)\n",
        "print(f\"Training {my_list[5]}...\")\n",
        "train_model(model, criterion, optimizer)\n",
        "print(f\"Testing {my_list[5]}...\")\n",
        "test_model(model)\n",
        "print()"
      ]
    }
  ],
  "metadata": {
    "accelerator": "GPU",
    "colab": {
      "gpuType": "T4",
      "provenance": []
    },
    "kernelspec": {
      "display_name": "Python 3",
      "name": "python3"
    },
    "language_info": {
      "codemirror_mode": {
        "name": "ipython",
        "version": 3
      },
      "file_extension": ".py",
      "mimetype": "text/x-python",
      "name": "python",
      "nbconvert_exporter": "python",
      "pygments_lexer": "ipython3",
      "version": "3.11.8"
    }
  },
  "nbformat": 4,
  "nbformat_minor": 0
}
